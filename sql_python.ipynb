{
 "cells": [
  {
   "cell_type": "code",
   "execution_count": 1,
   "metadata": {},
   "outputs": [
    {
     "name": "stderr",
     "output_type": "stream",
     "text": [
      "/opt/tljh/user/lib/python3.7/site-packages/outdated/utils.py:18: OutdatedCacheFailedWarning: Failed to use cache while checking for outdated package.\n",
      "Set the environment variable OUTDATED_RAISE_EXCEPTION=1 for a full traceback.\n",
      "Set the environment variable OUTDATED_IGNORE=1 to disable these warnings.\n",
      "  **kwargs\n",
      "/opt/tljh/user/lib/python3.7/site-packages/outdated/utils.py:18: OutdatedPackageWarning: The package outdated is out of date. Your version is 0.2.1, the latest is 0.2.2.\n",
      "Set the environment variable OUTDATED_IGNORE=1 to disable these warnings.\n",
      "  **kwargs\n",
      "/opt/tljh/user/lib/python3.7/site-packages/outdated/utils.py:18: OutdatedPackageWarning: The package pingouin is out of date. Your version is 0.4.0, the latest is 0.5.4.\n",
      "Set the environment variable OUTDATED_IGNORE=1 to disable these warnings.\n",
      "  **kwargs\n"
     ]
    }
   ],
   "source": [
    "# Импортируем библиотеки и задаем настройки отображения\n",
    "import pandas as pd\n",
    "import pandahouse as ph\n",
    "\n",
    "import seaborn as sns\n",
    "import matplotlib.pyplot as plt\n",
    "%matplotlib inline\n",
    "import numpy as np\n",
    "\n",
    "import pingouin as pg\n",
    "from scipy import stats as st\n",
    "from scipy.stats import norm\n",
    "\n",
    "import requests\n",
    "from urllib.parse import urlencode\n",
    "\n",
    "sns.set(\n",
    "    style=\"whitegrid\",\n",
    "    rc={'figure.figsize': (20, 7)})\n",
    "pd.set_option('display.precision', 2)"
   ]
  },
  {
   "cell_type": "code",
   "execution_count": 2,
   "metadata": {},
   "outputs": [],
   "source": [
    "# зададим параметры подключения к ClickHouse\n",
    "connection_default = {'host': 'https://clickhouse.lab.karpov.courses',\n",
    "                      'database':'default',\n",
    "                      'user':'student', \n",
    "                      'password':'********'\n",
    "                     }"
   ]
  },
  {
   "cell_type": "code",
   "execution_count": 3,
   "metadata": {},
   "outputs": [
    {
     "name": "stdout",
     "output_type": "stream",
     "text": [
      " Количество усердных студентов, решивших более 20 заданий за текущий месяц 136\n"
     ]
    }
   ],
   "source": [
    "# создаем запрос по задаче 1\n",
    "q = '''\n",
    "    SELECT COUNT(st_id) AS diligent_student\n",
    "    FROM (\n",
    "        SELECT st_id\n",
    "        FROM {db}.peas\n",
    "        WHERE toMonth(timest) = (SELECT MAX(toMonth(timest)) FROM {db}.peas)\n",
    "        GROUP BY st_id\n",
    "        HAVING SUM(correct) >= 20)\n",
    "    \n",
    "    '''\n",
    "# отправляем запрос и записываем результат в датафрейм\n",
    "diligent = ph.read_clickhouse(query=q, connection=connection_default)\n",
    "print(f' Количество усердных студентов, решивших более 20 заданий за текущий месяц {diligent.diligent_student.min()}')"
   ]
  },
  {
   "cell_type": "code",
   "execution_count": 4,
   "metadata": {},
   "outputs": [],
   "source": [
    "# создаем запрос по задаче 2\n",
    "q = '''\n",
    "    SELECT test_grp AS group,\n",
    "        COUNT(DISTINCT studs.st_id) AS users,\n",
    "        COUNT(DISTINCT CASE WHEN money>0 THEN a2.st_id END) AS payed_users,\n",
    "        COUNT(DISTINCT CASE WHEN money>0 AND sum_correct>10 THEN a1.st_id END) AS payed_active_users,\n",
    "        COUNT(DISTINCT CASE WHEN sum_correct>10 THEN a1.st_id END)  AS users_active,\n",
    "        COUNT(DISTINCT CASE WHEN money>0 AND sum_correct_math>=2 AND a2.subject = 'Math' THEN a2.st_id END) AS payed_active_math,\n",
    "        COUNT(DISTINCT CASE WHEN sum_correct_math>=2 THEN a1.st_id END) AS users_math,\n",
    "        SUM(money)/COUNT(DISTINCT studs.st_id) AS ARPU,\n",
    "        SUM(CASE WHEN sum_correct>10 THEN money END)/COUNT(DISTINCT CASE WHEN sum_correct>10 THEN a1.st_id END) AS ARPAU,\n",
    "        COUNT(DISTINCT a2.st_id)/COUNT(DISTINCT studs.st_id) AS CR_common,\n",
    "        COUNT(DISTINCT CASE WHEN sum_correct>10 AND money>0 THEN a2.st_id END)/COUNT(DISTINCT CASE WHEN sum_correct>10 THEN a1.st_id END) AS CR_active,\n",
    "        COUNT(DISTINCT CASE WHEN money>0 AND sum_correct_math>=2 AND a2.subject = 'Math' THEN a2.st_id END)/COUNT(DISTINCT CASE WHEN sum_correct_math>=2 THEN a1.st_id END) AS CR_math  \n",
    "FROM\n",
    "    (SELECT st_id, \n",
    "        SUM(correct) AS sum_correct, \n",
    "        SUM(CASE WHEN subject == 'Math' THEN correct END) AS sum_correct_math \n",
    "        FROM {db}.peas \n",
    "        GROUP BY st_id ) a1\n",
    "    FULL JOIN {db}.studs AS studs ON studs.st_id = a1.st_id\n",
    "    FULL JOIN  {db}.final_project_check AS a2 ON studs.st_id = a2.st_id\n",
    "GROUP BY test_grp\n",
    "   '''\n",
    "\n",
    "# отправляем запрос и записываем результат в датафрейм\n",
    "sql = ph.read_clickhouse(query=q, connection=connection_default)"
   ]
  },
  {
   "cell_type": "code",
   "execution_count": 5,
   "metadata": {},
   "outputs": [
    {
     "data": {
      "text/html": [
       "<div>\n",
       "<style scoped>\n",
       "    .dataframe tbody tr th:only-of-type {\n",
       "        vertical-align: middle;\n",
       "    }\n",
       "\n",
       "    .dataframe tbody tr th {\n",
       "        vertical-align: top;\n",
       "    }\n",
       "\n",
       "    .dataframe thead th {\n",
       "        text-align: right;\n",
       "    }\n",
       "</style>\n",
       "<table border=\"1\" class=\"dataframe\">\n",
       "  <thead>\n",
       "    <tr style=\"text-align: right;\">\n",
       "      <th></th>\n",
       "      <th>Группа</th>\n",
       "      <th>Число пользователей</th>\n",
       "      <th>Средний чек, руб</th>\n",
       "      <th>Средний чек активного пользователя, руб</th>\n",
       "      <th>Конверсия в покупку</th>\n",
       "      <th>Конверсия в покупку активного пользователя</th>\n",
       "      <th>Конверсия в покупку активных пользователей по математике</th>\n",
       "    </tr>\n",
       "  </thead>\n",
       "  <tbody>\n",
       "    <tr>\n",
       "      <th>0</th>\n",
       "      <td>control</td>\n",
       "      <td>305</td>\n",
       "      <td>4540.98</td>\n",
       "      <td>10393.70</td>\n",
       "      <td>0.05</td>\n",
       "      <td>0.11</td>\n",
       "      <td>0.06</td>\n",
       "    </tr>\n",
       "    <tr>\n",
       "      <th>1</th>\n",
       "      <td>pilot</td>\n",
       "      <td>295</td>\n",
       "      <td>11508.47</td>\n",
       "      <td>29739.58</td>\n",
       "      <td>0.11</td>\n",
       "      <td>0.26</td>\n",
       "      <td>0.10</td>\n",
       "    </tr>\n",
       "  </tbody>\n",
       "</table>\n",
       "</div>"
      ],
      "text/plain": [
       "    Группа  Число пользователей  Средний чек, руб  \\\n",
       "0  control                  305           4540.98   \n",
       "1    pilot                  295          11508.47   \n",
       "\n",
       "   Средний чек активного пользователя, руб  Конверсия в покупку  \\\n",
       "0                                 10393.70                 0.05   \n",
       "1                                 29739.58                 0.11   \n",
       "\n",
       "   Конверсия в покупку активного пользователя  \\\n",
       "0                                        0.11   \n",
       "1                                        0.26   \n",
       "\n",
       "   Конверсия в покупку активных пользователей по математике  \n",
       "0                                               0.06         \n",
       "1                                               0.10         "
      ]
     },
     "metadata": {},
     "output_type": "display_data"
    }
   ],
   "source": [
    "display(sql.rename(columns={'group': 'Группа', \n",
    "                            'users': 'Число пользователей',\n",
    "                            'payed_users': 'Число платящих пользователей',\n",
    "                            'payed_active_users': 'Число активных платящих пользователей',\n",
    "                            'users_active': 'Число активных пользователей',\n",
    "                            'payed_active_math': 'Число активных платящих пользователей по математике',\n",
    "                            'users_math': 'Число активных пользователей по математике',\n",
    "                            'ARPU': 'Средний чек, руб',\n",
    "                            'ARPAU': 'Средний чек активного пользователя, руб',\n",
    "                            'CR_common': 'Конверсия в покупку',\n",
    "                            'CR_active': 'Конверсия в покупку активного пользователя',\n",
    "                            'CR_math': 'Конверсия в покупку активных пользователей по математике'})\n",
    "        [['Группа', 'Число пользователей', 'Средний чек, руб',\n",
    "          'Средний чек активного пользователя, руб', 'Конверсия в покупку',\n",
    "          'Конверсия в покупку активного пользователя', 'Конверсия в покупку активных пользователей по математике']])"
   ]
  },
  {
   "cell_type": "code",
   "execution_count": null,
   "metadata": {},
   "outputs": [],
   "source": []
  }
 ],
 "metadata": {
  "kernelspec": {
   "display_name": "Python 3",
   "language": "python",
   "name": "python3"
  },
  "language_info": {
   "codemirror_mode": {
    "name": "ipython",
    "version": 3
   },
   "file_extension": ".py",
   "mimetype": "text/x-python",
   "name": "python",
   "nbconvert_exporter": "python",
   "pygments_lexer": "ipython3",
   "version": "3.7.3"
  }
 },
 "nbformat": 4,
 "nbformat_minor": 4
}
